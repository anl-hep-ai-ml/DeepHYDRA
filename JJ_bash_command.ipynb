{
 "cells": [
  {
   "cell_type": "code",
   "execution_count": 1,
   "id": "a99f543a",
   "metadata": {},
   "outputs": [
    {
     "data": {
      "text/plain": [
       "'/srv'"
      ]
     },
     "execution_count": 1,
     "metadata": {},
     "output_type": "execute_result"
    }
   ],
   "source": [
    "pwd"
   ]
  },
  {
   "cell_type": "code",
   "execution_count": 2,
   "id": "44c19a17",
   "metadata": {},
   "outputs": [
    {
     "name": "stdout",
     "output_type": "stream",
     "text": [
      "LICENSE            \u001b[0m\u001b[01;34mdataset_generation\u001b[0m/             setup_env.sh\r\n",
      "NOTICE             \u001b[01;34mdatasets\u001b[0m/                       \u001b[01;32msetup_lcrc.sh\u001b[0m*\r\n",
      "README.md          \u001b[01;34mdetection_combined\u001b[0m/             setup_lxplus.sh\r\n",
      "Untitled.ipynb     \u001b[01;34menvs\u001b[0m/                           \u001b[01;34mtransformer_based_detection\u001b[0m/\r\n",
      "\u001b[01;34manalysis_scripts\u001b[0m/  \u001b[01;34mevaluation\u001b[0m/\r\n",
      "\u001b[01;34mbaselines\u001b[0m/         informer_PBS_submit.pbs.o29790\r\n"
     ]
    }
   ],
   "source": [
    "ls"
   ]
  },
  {
   "cell_type": "code",
   "execution_count": 5,
   "id": "20443301",
   "metadata": {},
   "outputs": [
    {
     "name": "stdout",
     "output_type": "stream",
     "text": [
      "/srv/detection_combined/offline_detection\n"
     ]
    }
   ],
   "source": [
    "cd detection_combined/offline_detection/"
   ]
  },
  {
   "cell_type": "code",
   "execution_count": 6,
   "id": "6fb4824f",
   "metadata": {},
   "outputs": [
    {
     "name": "stdout",
     "output_type": "stream",
     "text": [
      "/srv/detection_combined/offline_detection/informer_res\n"
     ]
    }
   ],
   "source": [
    "cd informer_res/"
   ]
  },
  {
   "cell_type": "code",
   "execution_count": 7,
   "id": "9da9614c",
   "metadata": {},
   "outputs": [],
   "source": [
    "ls"
   ]
  },
  {
   "cell_type": "code",
   "execution_count": 8,
   "id": "2feb9743",
   "metadata": {},
   "outputs": [
    {
     "ename": "SyntaxError",
     "evalue": "invalid syntax (2541372506.py, line 1)",
     "output_type": "error",
     "traceback": [
      "\u001b[0;36m  File \u001b[0;32m\"/tmp/ipykernel_1335256/2541372506.py\"\u001b[0;36m, line \u001b[0;32m1\u001b[0m\n\u001b[0;31m    python ../informers_localData.py --model Informer-MSE --data-dir /lcrc/group/ATLAS/users/jhoya/DAQ/atlas-hlt-datasets/ --checkpoint-dir '/lcrc/group/ATLAS/users/jhoya/DAQ/trained_models/hlt_2023_mse_Scale_0.8_1.0_Scale_APP_0.8_1.0_0.01_0.05_0.05_rel_size_1.0_ratio_0.25_seed_192/' --inp-data-name 'val_set_dcm_rates_2023.csv' --variant '2023' --seed 42\u001b[0m\n\u001b[0m            ^\u001b[0m\n\u001b[0;31mSyntaxError\u001b[0m\u001b[0;31m:\u001b[0m invalid syntax\n"
     ]
    }
   ],
   "source": [
    "python ../informers_localData.py --model Informer-MSE --data-dir /lcrc/group/ATLAS/users/jhoya/DAQ/atlas-hlt-datasets/ --checkpoint-dir '/lcrc/group/ATLAS/users/jhoya/DAQ/trained_models/hlt_2023_mse_Scale_0.8_1.0_Scale_APP_0.8_1.0_0.01_0.05_0.05_rel_size_1.0_ratio_0.25_seed_192/' --inp-data-name 'val_set_dcm_rates_2023.csv' --variant '2023' --seed 42"
   ]
  },
  {
   "cell_type": "code",
   "execution_count": 10,
   "id": "6f6de04d",
   "metadata": {},
   "outputs": [
    {
     "name": "stdout",
     "output_type": "stream",
     "text": [
      "/srv\n"
     ]
    }
   ],
   "source": [
    "cd /srv"
   ]
  },
  {
   "cell_type": "code",
   "execution_count": 12,
   "id": "e6fa9852",
   "metadata": {},
   "outputs": [
    {
     "name": "stdout",
     "output_type": "stream",
     "text": [
      "LICENSE            \u001b[0m\u001b[01;34mdataset_generation\u001b[0m/             setup_env.sh\r\n",
      "NOTICE             \u001b[01;34mdatasets\u001b[0m/                       \u001b[01;32msetup_lcrc.sh\u001b[0m*\r\n",
      "README.md          \u001b[01;34mdetection_combined\u001b[0m/             setup_lxplus.sh\r\n",
      "Untitled.ipynb     \u001b[01;34menvs\u001b[0m/                           \u001b[01;34mtransformer_based_detection\u001b[0m/\r\n",
      "\u001b[01;34manalysis_scripts\u001b[0m/  \u001b[01;34mevaluation\u001b[0m/\r\n",
      "\u001b[01;34mbaselines\u001b[0m/         informer_PBS_submit.pbs.o29790\r\n"
     ]
    }
   ],
   "source": [
    "ls"
   ]
  },
  {
   "cell_type": "code",
   "execution_count": 13,
   "id": "fdd665cd",
   "metadata": {},
   "outputs": [
    {
     "name": "stdout",
     "output_type": "stream",
     "text": [
      "/usr/bin/sh: line 1: source: setup_env.sh: file not found\r\n"
     ]
    }
   ],
   "source": [
    "!source setup_env.sh"
   ]
  },
  {
   "cell_type": "code",
   "execution_count": 14,
   "id": "2258d5a2",
   "metadata": {},
   "outputs": [
    {
     "name": "stdout",
     "output_type": "stream",
     "text": [
      "setup_env.sh: line 1: lsetup: command not found\n",
      "Setting up TDAQ Common SW release \"tdaq-common-11-02-01\"\n",
      "Setting up DAQ SW release \"tdaq-11-02-01\"\n"
     ]
    }
   ],
   "source": [
    "!bash setup_env.sh"
   ]
  },
  {
   "cell_type": "code",
   "execution_count": 15,
   "id": "faff9efc",
   "metadata": {},
   "outputs": [
    {
     "name": "stdout",
     "output_type": "stream",
     "text": [
      "/srv/detection_combined/offline_detection/informer_res\n"
     ]
    }
   ],
   "source": [
    "cd detection_combined/offline_detection/informer_res/"
   ]
  },
  {
   "cell_type": "code",
   "execution_count": 16,
   "id": "ab7728e0",
   "metadata": {},
   "outputs": [
    {
     "ename": "SyntaxError",
     "evalue": "invalid syntax (2541372506.py, line 1)",
     "output_type": "error",
     "traceback": [
      "\u001b[0;36m  File \u001b[0;32m\"/tmp/ipykernel_1335256/2541372506.py\"\u001b[0;36m, line \u001b[0;32m1\u001b[0m\n\u001b[0;31m    python ../informers_localData.py --model Informer-MSE --data-dir /lcrc/group/ATLAS/users/jhoya/DAQ/atlas-hlt-datasets/ --checkpoint-dir '/lcrc/group/ATLAS/users/jhoya/DAQ/trained_models/hlt_2023_mse_Scale_0.8_1.0_Scale_APP_0.8_1.0_0.01_0.05_0.05_rel_size_1.0_ratio_0.25_seed_192/' --inp-data-name 'val_set_dcm_rates_2023.csv' --variant '2023' --seed 42\u001b[0m\n\u001b[0m            ^\u001b[0m\n\u001b[0;31mSyntaxError\u001b[0m\u001b[0;31m:\u001b[0m invalid syntax\n"
     ]
    }
   ],
   "source": [
    "python ../informers_localData.py --model Informer-MSE --data-dir /lcrc/group/ATLAS/users/jhoya/DAQ/atlas-hlt-datasets/ --checkpoint-dir '/lcrc/group/ATLAS/users/jhoya/DAQ/trained_models/hlt_2023_mse_Scale_0.8_1.0_Scale_APP_0.8_1.0_0.01_0.05_0.05_rel_size_1.0_ratio_0.25_seed_192/' --inp-data-name 'val_set_dcm_rates_2023.csv' --variant '2023' --seed 42"
   ]
  },
  {
   "cell_type": "code",
   "execution_count": 18,
   "id": "b3a96076",
   "metadata": {},
   "outputs": [
    {
     "name": "stdout",
     "output_type": "stream",
     "text": [
      "/srv/detection_combined/offline_detection\n"
     ]
    }
   ],
   "source": [
    "cd .."
   ]
  },
  {
   "cell_type": "code",
   "execution_count": 19,
   "id": "7927c07e",
   "metadata": {},
   "outputs": [
    {
     "name": "stdout",
     "output_type": "stream",
     "text": [
      "\u001b[0m\u001b[01;32mdownload_run_data.sh\u001b[0m*           informer_PBS_submit.pbs.o29804\r\n",
      "download_run_df.py              informer_PBS_submit.pbs.o29806\r\n",
      "\u001b[01;34minfor_res_Jup\u001b[0m/                  informer_PBS_submit.pbs.o29807\r\n",
      "\u001b[01;34minformer_PBS_res\u001b[0m/               informer_PBS_submit.pbs.o29808\r\n",
      "informer_PBS_submit.pbs         informer_PBS_submit.pbs.o29809\r\n",
      "informer_PBS_submit.pbs.o29789  informer_PBS_submit.pbs.o29810\r\n",
      "informer_PBS_submit.pbs.o29792  \u001b[01;34minformer_folder\u001b[0m/\r\n",
      "informer_PBS_submit.pbs.o29793  \u001b[01;34minformer_res\u001b[0m/\r\n",
      "informer_PBS_submit.pbs.o29794  informers.py\r\n",
      "informer_PBS_submit.pbs.o29795  informers_localData.py\r\n",
      "informer_PBS_submit.pbs.o29796\r\n"
     ]
    }
   ],
   "source": [
    "ls"
   ]
  },
  {
   "cell_type": "code",
   "execution_count": 20,
   "id": "fd85626e",
   "metadata": {},
   "outputs": [
    {
     "name": "stdout",
     "output_type": "stream",
     "text": [
      "/srv\n"
     ]
    }
   ],
   "source": [
    "cd /srv"
   ]
  },
  {
   "cell_type": "code",
   "execution_count": 21,
   "id": "087f79f3",
   "metadata": {},
   "outputs": [
    {
     "name": "stdout",
     "output_type": "stream",
     "text": [
      "setup_lcrc.sh: line 3: setupATLAS: command not found\r\n"
     ]
    }
   ],
   "source": [
    "!bash setup_lcrc.sh"
   ]
  },
  {
   "cell_type": "code",
   "execution_count": null,
   "id": "360d714a",
   "metadata": {},
   "outputs": [],
   "source": []
  }
 ],
 "metadata": {
  "kernelspec": {
   "display_name": "Python 3 (ipykernel)",
   "language": "python",
   "name": "python3"
  },
  "language_info": {
   "codemirror_mode": {
    "name": "ipython",
    "version": 3
   },
   "file_extension": ".py",
   "mimetype": "text/x-python",
   "name": "python",
   "nbconvert_exporter": "python",
   "pygments_lexer": "ipython3",
   "version": "3.9.12"
  }
 },
 "nbformat": 4,
 "nbformat_minor": 5
}
